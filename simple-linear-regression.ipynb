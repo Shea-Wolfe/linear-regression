{
 "cells": [
  {
   "cell_type": "code",
   "execution_count": 1,
   "metadata": {
    "collapsed": false
   },
   "outputs": [],
   "source": [
    "import pandas as pd\n",
    "import matplotlib.pyplot as plt\n",
    "import numpy as np\n",
    "from sklearn import linear_model\n",
    "%matplotlib inline "
   ]
  },
  {
   "cell_type": "markdown",
   "metadata": {},
   "source": [
    "## Ground Cricket Chirps\n",
    "\n",
    "In _The Song of Insects_ (1948) by George W. Pierce, Pierce mechanically measured the frequency (the number of wing vibrations per second) of chirps (or pulses of sound) made by a striped ground cricket, at various ground temperatures.  Since crickets are ectotherms (cold-blooded), the rate of their physiological processes and their overall metabolism are influenced by temperature.  Consequently, there is reason to believe that temperature would have a profound effect on aspects of their behavior, such as chirp frequency.\n",
    "\n",
    "In general, it was found that crickets did not sing at temperatures colder than 60&deg; F or warmer than 100&deg; F."
   ]
  },
  {
   "cell_type": "code",
   "execution_count": 77,
   "metadata": {
    "collapsed": false
   },
   "outputs": [],
   "source": [
    "ground_cricket_data = {\"Chirps/Second\": [20.0, 16.0, 19.8, 18.4, 17.1, 15.5, 14.7,\n",
    "                                         15.7, 15.4, 16.3, 15.0, 17.2, 16.0, 17.0,\n",
    "                                         14.4],\n",
    "                       \"Ground Temperature\": [88.6, 71.6, 93.3, 84.3, 80.6, 75.2, 69.7,\n",
    "                                              71.6, 69.4, 83.3, 79.6, 82.6, 80.6, 83.5,\n",
    "                                              76.3]}\n",
    "df = pd.DataFrame(ground_cricket_data)"
   ]
  },
  {
   "cell_type": "code",
   "execution_count": 78,
   "metadata": {
    "collapsed": true
   },
   "outputs": [],
   "source": [
    "regr1 = linear_model.LinearRegression()"
   ]
  },
  {
   "cell_type": "code",
   "execution_count": 79,
   "metadata": {
    "collapsed": false
   },
   "outputs": [],
   "source": [
    "input_data = df[['Ground Temperature']]\n",
    "output_data = df['Chirps/Second']"
   ]
  },
  {
   "cell_type": "code",
   "execution_count": 80,
   "metadata": {
    "collapsed": false
   },
   "outputs": [
    {
     "name": "stdout",
     "output_type": "stream",
     "text": [
      "0.459314645236 [ 0.20299973]\n"
     ]
    }
   ],
   "source": [
    "regr1.fit(input_data, output_data)\n",
    "print(regr1.intercept_, regr1.coef_)\n"
   ]
  },
  {
   "cell_type": "code",
   "execution_count": 90,
   "metadata": {
    "collapsed": false
   },
   "outputs": [
    {
     "data": {
      "text/plain": [
       "<matplotlib.text.Text at 0x10aaa39b0>"
      ]
     },
     "execution_count": 90,
     "metadata": {},
     "output_type": "execute_result"
    },
    {
     "data": {
      "image/png": "[encoded data removed]",
      "text/plain": [
       "<matplotlib.figure.Figure at 0x10aa6ae10>"
      ]
     },
     "metadata": {},
     "output_type": "display_data"
    }
   ],
   "source": [
    "plt.scatter(input_data, output_data)\n",
    "plt.plot(input_data,regr1.predict(input_data))\n",
    "plt.xlabel('temp in f.    r^2 = {}'.format(regr1.score(input_data, output_data)))\n",
    "plt.ylabel('number of chirps')\n",
    "plt.title('Task2, Number of chirps by temp')"
   ]
  },
  {
   "cell_type": "code",
   "execution_count": 89,
   "metadata": {
    "collapsed": false
   },
   "outputs": [
    {
     "name": "stdout",
     "output_type": "stream",
     "text": [
      "Task3 0.692294652915\n"
     ]
    }
   ],
   "source": [
    "print('Task3' ,regr1.score(input_data, output_data))"
   ]
  },
  {
   "cell_type": "code",
   "execution_count": 57,
   "metadata": {
    "collapsed": false
   },
   "outputs": [
    {
     "name": "stdout",
     "output_type": "stream",
     "text": [
      "Task 4 [ 19.74428913]\n"
     ]
    }
   ],
   "source": [
    "print('Task 4' ,regr1.predict(95))"
   ]
  },
  {
   "cell_type": "code",
   "execution_count": 56,
   "metadata": {
    "collapsed": false
   },
   "outputs": [
    {
     "name": "stdout",
     "output_type": "stream",
     "text": [
      "Task 5 [ 86.40743135]\n"
     ]
    }
   ],
   "source": [
    "print('Task 5' ,(18 - regr1.intercept_) / regr1.coef_)"
   ]
  },
  {
   "cell_type": "markdown",
   "metadata": {},
   "source": [
    "### Tasks\n",
    "\n",
    "1. Find the linear regression equation for this data.\n",
    "2. Chart the original data and the equation on the chart.\n",
    "3. Find the equation's $R^2$ score (use the `.score` method) to determine whether the equation is a good fit for this data. (0.8 and greater is considered a strong correlation.)\n",
    "4. Extrapolate data:  If the ground temperature reached 95&deg; F, then at what approximate rate would you expect the crickets to be chirping?\n",
    "5. Interpolate data:  With a listening device, you discovered that on a particular morning the crickets were chirping at a rate of 18 chirps per second.  What was the approximate ground temperature that morning?"
   ]
  },
  {
   "cell_type": "markdown",
   "metadata": {},
   "source": [
    "## Brain vs. Body Weight\n",
    "\n",
    "In the file `brain_body.txt`, the average brain and body weight for a number of mammal species are recorded. Load this data into a Pandas data frame.\n",
    "\n",
    "### Tasks\n",
    "\n",
    "1. Find the linear regression equation for this data for brain weight to body weight.\n",
    "2. Chart the original data and the equation on the chart.\n",
    "3. Find the equation's $R^2$ score (use the `.score` method) to determine whether the equation is a good fit for this data. (0.8 and greater is considered a strong correlation.)"
   ]
  },
  {
   "cell_type": "code",
   "execution_count": 307,
   "metadata": {
    "collapsed": false
   },
   "outputs": [],
   "source": [
    "df = pd.read_fwf(\"brain_body.txt\")"
   ]
  },
  {
   "cell_type": "code",
   "execution_count": 308,
   "metadata": {
    "collapsed": false
   },
   "outputs": [],
   "source": [
    "input_data = df[['Body']]\n",
    "output_data = df.Brain"
   ]
  },
  {
   "cell_type": "code",
   "execution_count": 309,
   "metadata": {
    "collapsed": false
   },
   "outputs": [],
   "source": [
    "regr2 = linear_model.LinearRegression()"
   ]
  },
  {
   "cell_type": "code",
   "execution_count": 310,
   "metadata": {
    "collapsed": false
   },
   "outputs": [
    {
     "name": "stdout",
     "output_type": "stream",
     "text": [
      "[ 0.90291295] -56.8555454286\n"
     ]
    }
   ],
   "source": [
    "regr2.fit(input_data,output_data)\n",
    "print(regr2.coef_,regr2.intercept_)"
   ]
  },
  {
   "cell_type": "code",
   "execution_count": 311,
   "metadata": {
    "collapsed": false
   },
   "outputs": [
    {
     "data": {
      "image/png": "[encoded data removed]",
      "text/plain": [
       "<matplotlib.figure.Figure at 0x10b356e10>"
      ]
     },
     "metadata": {},
     "output_type": "display_data"
    }
   ],
   "source": [
    "plt.scatter(input_data, output_data)\n",
    "plt.plot(input_data,regr2.predict(input_data))\n",
    "plt.xlabel('Body Weight in kg, r^2 = {}'.format(regr2.score(input_data,output_data)))\n",
    "plt.ylabel('Brain Weight in g')\n",
    "plt.title('Task 2, Brain weight by body weight')\n",
    "plt.show()"
   ]
  },
  {
   "cell_type": "code",
   "execution_count": 315,
   "metadata": {
    "collapsed": false
   },
   "outputs": [
    {
     "name": "stdout",
     "output_type": "stream",
     "text": [
      "Task3, r^2 = 0.872662084304\n"
     ]
    }
   ],
   "source": [
    "print('Task3, r^2 =', regr2.score(input_data,output_data))"
   ]
  },
  {
   "cell_type": "markdown",
   "metadata": {},
   "source": [
    "## Salary Discrimination\n",
    "\n",
    "The file `salary.txt` contains data for 52 tenure-track professors at a small Midwestern college. This data was used in legal proceedings in the 1980s about discrimination against women in salary.\n",
    "\n",
    "The data in the file, by column:\n",
    "\n",
    "1. Sex. 1 for female, 0 for male.\n",
    "2. Rank. 1 for assistant professor, 2 for associate professor, 3 for full professor.\n",
    "3. Year. Number of years in current rank.\n",
    "4. Degree. Highest degree. 1 for doctorate, 0 for master's.\n",
    "5. YSdeg. Years since highest degree was earned.\n",
    "6. Salary. Salary/year in dollars.\n",
    "\n",
    "### Tasks\n",
    "\n",
    "1. Find the linear regression equation for this data using columns 1-5 to column 6.\n",
    "2. Find the selection of columns with the best $R^2$ score.\n",
    "3. Report whether sex is a factor in salary. Support your argument with graph(s) if appropriate."
   ]
  },
  {
   "cell_type": "code",
   "execution_count": 317,
   "metadata": {
    "collapsed": false
   },
   "outputs": [],
   "source": [
    "df = pd.read_fwf(\"salary.txt\", header=None, \n",
    "                 names=[\"Sex\", \"Rank\", \"Year\", \"Degree\", \"YSdeg\", \"Salary\"])"
   ]
  },
  {
   "cell_type": "code",
   "execution_count": 318,
   "metadata": {
    "collapsed": false
   },
   "outputs": [],
   "source": [
    "men = df.Sex == 0\n",
    "women = df.Sex == 1\n",
    "men = df[men]\n",
    "women = df[women]\n",
    "men = men.drop('Sex', axis=1)\n",
    "women = women.drop('Sex', axis=1)\n",
    "men_data = men['Salary']\n",
    "women_data = women['Salary']\n",
    "men = men.drop('Salary',axis=1)\n",
    "women= women.drop('Salary', axis=1)\n",
    "output_data = df['Salary']\n",
    "df = df.drop('Salary', axis=1)"
   ]
  },
  {
   "cell_type": "code",
   "execution_count": 242,
   "metadata": {
    "collapsed": false
   },
   "outputs": [],
   "source": [
    "import itertools"
   ]
  },
  {
   "cell_type": "code",
   "execution_count": 243,
   "metadata": {
    "collapsed": false
   },
   "outputs": [],
   "source": [
    "combos = [list(itertools.combinations(df.columns,x)) for x in range(1,6)]"
   ]
  },
  {
   "cell_type": "code",
   "execution_count": 244,
   "metadata": {
    "collapsed": false
   },
   "outputs": [],
   "source": [
    "combo_list = []\n",
    "for perm in combos:\n",
    "    for combo in perm:\n",
    "        combo_list.append(list(combo))"
   ]
  },
  {
   "cell_type": "code",
   "execution_count": 305,
   "metadata": {
    "collapsed": false
   },
   "outputs": [
    {
     "data": {
      "text/plain": [
       "[['Rank'],\n",
       " ['Year'],\n",
       " ['Degree'],\n",
       " ['YSdeg'],\n",
       " ['Rank', 'Year'],\n",
       " ['Rank', 'Degree'],\n",
       " ['Rank', 'YSdeg'],\n",
       " ['Year', 'Degree'],\n",
       " ['Year', 'YSdeg'],\n",
       " ['Degree', 'YSdeg']]"
      ]
     },
     "execution_count": 305,
     "metadata": {},
     "output_type": "execute_result"
    }
   ],
   "source": [
    "combo_list[:10]"
   ]
  },
  {
   "cell_type": "code",
   "execution_count": 281,
   "metadata": {
    "collapsed": true
   },
   "outputs": [],
   "source": [
    "regr3 = linear_model.LinearRegression()\n",
    "regr4 = linear_model.LinearRegression()"
   ]
  },
  {
   "cell_type": "code",
   "execution_count": 248,
   "metadata": {
    "collapsed": false
   },
   "outputs": [],
   "source": [
    "this = [(regr3.fit(df[combo_list[x]],output_data), x) for x in range(len(combo_list))]"
   ]
  },
  {
   "cell_type": "code",
   "execution_count": 250,
   "metadata": {
    "collapsed": false
   },
   "outputs": [
    {
     "name": "stdout",
     "output_type": "stream",
     "text": [
      "0.854718067441\n",
      "30\n"
     ]
    }
   ],
   "source": [
    "count = 0\n",
    "r = 0\n",
    "while count < len(combo_list):\n",
    "    regr3.fit(df[combo_list[count]],output_data)\n",
    "    if regr3.score(df[combo_list[count]],output_data) > r:\n",
    "        r = regr3.score(df[combo_list[count]],output_data)\n",
    "        index = count\n",
    "    count += 1\n",
    "print(r)\n",
    "print(index)"
   ]
  },
  {
   "cell_type": "code",
   "execution_count": 253,
   "metadata": {
    "collapsed": false
   },
   "outputs": [
    {
     "name": "stdout",
     "output_type": "stream",
     "text": [
      "[0, 0.063898925832880038, 0.75253605392746314, 0.7554917749443395, 0.84364809332645985, 0.84543198619871662, 0.84567257644855964, 0.84903661922628515, 0.85471806744109691]\n",
      "[0, 1, 5, 9, 15, 22, 26, 30]\n"
     ]
    }
   ],
   "source": [
    "count = 0\n",
    "r = [0]\n",
    "index = []\n",
    "while count < len(combo_list):\n",
    "    regr3.fit(df[combo_list[count]],output_data)\n",
    "    if regr3.score(df[combo_list[count]],output_data) > r[-1]:\n",
    "        r.append(regr3.score(df[combo_list[count]],output_data))\n",
    "        index.append(count)\n",
    "    count += 1\n",
    "print(r)\n",
    "print(index)"
   ]
  },
  {
   "cell_type": "code",
   "execution_count": 302,
   "metadata": {
    "collapsed": true
   },
   "outputs": [],
   "source": [
    "combos = [list(itertools.combinations(men.columns,x)) for x in range(1,5)]"
   ]
  },
  {
   "cell_type": "code",
   "execution_count": 303,
   "metadata": {
    "collapsed": true
   },
   "outputs": [],
   "source": [
    "combo_list = []\n",
    "for perm in combos:\n",
    "    for combo in perm:\n",
    "        combo_list.append(list(combo))"
   ]
  },
  {
   "cell_type": "code",
   "execution_count": 304,
   "metadata": {
    "collapsed": false
   },
   "outputs": [
    {
     "name": "stdout",
     "output_type": "stream",
     "text": [
      "[0, 0.76726942788318631, 0.87074424921887927, 0.87250263743310197, 0.874389041252435, 0.88601804470171808]\n",
      "[['Rank'], ['Rank', 'Year'], ['Rank', 'Year', 'Degree'], ['Rank', 'Year', 'YSdeg'], ['Rank', 'Year', 'Degree', 'YSdeg']]\n"
     ]
    }
   ],
   "source": [
    "count = 0\n",
    "r = [0]\n",
    "index = []\n",
    "while count < len(combo_list):\n",
    "    regr3.fit(men[combo_list[count]],men_data)\n",
    "    if regr3.score(men[combo_list[count]],men_data) > r[-1]:\n",
    "        r.append(regr3.score(men[combo_list[count]],men_data))\n",
    "        index.append(combo_list[count])\n",
    "    count += 1\n",
    "print(r)\n",
    "print(index)"
   ]
  },
  {
   "cell_type": "code",
   "execution_count": 267,
   "metadata": {
    "collapsed": false
   },
   "outputs": [],
   "source": [
    "combos = [list(itertools.combinations(women.columns,x)) for x in range(1,5)]\n",
    "combo_list = []\n",
    "for perm in combos:\n",
    "    for combo in perm:\n",
    "        combo_list.append(list(combo))"
   ]
  },
  {
   "cell_type": "code",
   "execution_count": 274,
   "metadata": {
    "collapsed": false
   },
   "outputs": [
    {
     "data": {
      "text/plain": [
       "0.00090415454869707812"
      ]
     },
     "execution_count": 274,
     "metadata": {},
     "output_type": "execute_result"
    }
   ],
   "source": [
    "regr3.fit(men[combo_list[2]],men_data)\n",
    "regr3.score(men[combo_list[2]],men_data)"
   ]
  },
  {
   "cell_type": "code",
   "execution_count": 301,
   "metadata": {
    "collapsed": false
   },
   "outputs": [
    {
     "name": "stdout",
     "output_type": "stream",
     "text": [
      "[0, 0.67414441456593677, 0.76460421149540159, 0.77492061107021026, 0.77967748046171759, 0.77968339674233178]\n",
      "[['Rank'], ['Rank', 'Year'], ['Rank', 'Year', 'Degree'], ['Rank', 'Year', 'YSdeg'], ['Rank', 'Year', 'Degree', 'YSdeg']]\n"
     ]
    }
   ],
   "source": [
    "count = 0\n",
    "r = [0]\n",
    "index = []\n",
    "while count < len(combo_list):\n",
    "    regr3.fit(women[combo_list[count]],women_data)\n",
    "    if regr3.score(women[combo_list[count]],women_data) > r[-1]:\n",
    "        r.append(regr3.score(women[combo_list[count]],women_data))\n",
    "        index.append(combo_list[count])\n",
    "    count += 1\n",
    "print(r)\n",
    "print(index)"
   ]
  },
  {
   "cell_type": "code",
   "execution_count": 319,
   "metadata": {
    "collapsed": false
   },
   "outputs": [
    {
     "data": {
      "text/plain": [
       "0.23724511682395932"
      ]
     },
     "execution_count": 319,
     "metadata": {},
     "output_type": "execute_result"
    }
   ],
   "source": [
    "regr3.fit(women[combo_list[1]],women_data)\n",
    "regr3.score(women[combo_list[1]],women_data)"
   ]
  },
  {
   "cell_type": "code",
   "execution_count": 320,
   "metadata": {
    "collapsed": false
   },
   "outputs": [
    {
     "data": {
      "text/plain": [
       "0.55085542129605858"
      ]
     },
     "execution_count": 320,
     "metadata": {},
     "output_type": "execute_result"
    }
   ],
   "source": [
    "regr4.fit(men[combo_list[1]],men_data)\n",
    "regr4.score(men[combo_list[1]],men_data)"
   ]
  },
  {
   "cell_type": "code",
   "execution_count": 326,
   "metadata": {
    "collapsed": false
   },
   "outputs": [
    {
     "data": {
      "image/png": "[encoded data removed]",
      "text/plain": [
       "<matplotlib.figure.Figure at 0x10ac3c6d8>"
      ]
     },
     "metadata": {},
     "output_type": "display_data"
    }
   ],
   "source": [
    "plt.scatter(men['Year'],men_data)\n",
    "plt.scatter(women['Year'],women_data, color='red')\n",
    "plt.plot(men['Year'],regr4.predict(men[['Year']]))\n",
    "plt.plot(women['Year'],regr3.predict(women[['Year']]),color='red')\n",
    "plt.xlabel('Tenure, men r^2={}, women r^2={}'.format(round(regr4.score(men[combo_list[1]],men_data),2),\n",
    "                                                     round(regr3.score(women[combo_list[1]],women_data),2)))\n",
    "plt.ylabel('Salary')\n",
    "plt.title('Men vs Women salary by tenure')\n",
    "plt.show()"
   ]
  },
  {
   "cell_type": "markdown",
   "metadata": {},
   "source": [
    "# Description\n",
    "\n",
    "* In the above chart you can see women's salory by tenure in red dots and men's salory by tenure in blue dots\n",
    "* The blue line is the men's best fit, the red line is the women's best fit.\n",
    "* Neither of the lines are a great fit, but the men's line is a significantly stronger predictor of salory by tenure than the womens. \n",
    "* Beyond the above chart you can also see some additional corralations above, some notes on them.\n",
    "    1. Both of the fits when all the data is included get pretty strong but while the men's r^2 gets near to .90, the womens never breaches the important .80 mark.\n",
    "    1. The reason for this may be the larger number of men working than women, and also the single woman making the most money out of any professor might skew the data pretty heavily"
   ]
  },
  {
   "cell_type": "code",
   "execution_count": null,
   "metadata": {
    "collapsed": false
   },
   "outputs": [],
   "source": []
  },
  {
   "cell_type": "code",
   "execution_count": null,
   "metadata": {
    "collapsed": true
   },
   "outputs": [],
   "source": []
  },
  {
   "cell_type": "code",
   "execution_count": null,
   "metadata": {
    "collapsed": false
   },
   "outputs": [],
   "source": []
  },
  {
   "cell_type": "markdown",
   "metadata": {},
   "source": []
  },
  {
   "cell_type": "markdown",
   "metadata": {},
   "source": []
  },
  {
   "cell_type": "code",
   "execution_count": null,
   "metadata": {
    "collapsed": false
   },
   "outputs": [],
   "source": []
  },
  {
   "cell_type": "code",
   "execution_count": null,
   "metadata": {
    "collapsed": false
   },
   "outputs": [],
   "source": []
  },
  {
   "cell_type": "code",
   "execution_count": 231,
   "metadata": {
    "collapsed": false
   },
   "outputs": [],
   "source": []
  },
  {
   "cell_type": "code",
   "execution_count": 119,
   "metadata": {
    "collapsed": true
   },
   "outputs": [],
   "source": []
  },
  {
   "cell_type": "code",
   "execution_count": null,
   "metadata": {
    "collapsed": true
   },
   "outputs": [],
   "source": []
  }
 ],
 "metadata": {
  "kernelspec": {
   "display_name": "Python 3",
   "language": "python",
   "name": "python3"
  },
  "language_info": {
   "codemirror_mode": {
    "name": "ipython",
    "version": 3
   },
   "file_extension": ".py",
   "mimetype": "text/x-python",
   "name": "python",
   "nbconvert_exporter": "python",
   "pygments_lexer": "ipython3",
   "version": "3.4.3"
  }
 },
 "nbformat": 4,
 "nbformat_minor": 0
}
